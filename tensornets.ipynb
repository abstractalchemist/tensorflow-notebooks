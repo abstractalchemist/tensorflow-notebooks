{
 "cells": [
  {
   "cell_type": "code",
   "execution_count": 14,
   "metadata": {},
   "outputs": [],
   "source": [
    "import tensorflow as tf\n",
    "import tensornets as nets\n",
    "import cv2\n",
    "import os\n"
   ]
  },
  {
   "cell_type": "code",
   "execution_count": 19,
   "metadata": {},
   "outputs": [
    {
     "name": "stdout",
     "output_type": "stream",
     "text": [
      "cat.png  cat.png.1  tensornets.ipynb\r\n"
     ]
    }
   ],
   "source": [
    "!ls"
   ]
  },
  {
   "cell_type": "code",
   "execution_count": 29,
   "metadata": {},
   "outputs": [],
   "source": [
    "inputs = tf.placeholder(tf.float32, [None, 416, 416, 3])\n",
    "#model = nets.YOLOv2(inputs, nets.Darknet19)\n",
    "model = nets.(inputs)\n",
    "\n",
    "img = nets.utils.load_img('./cat.png')\n",
    "\n"
   ]
  },
  {
   "cell_type": "code",
   "execution_count": 32,
   "metadata": {},
   "outputs": [
    {
     "name": "stdout",
     "output_type": "stream",
     "text": [
      "Scope: REFyolov3coco\n",
      "Total layers: 75\n",
      "Total weights: 366\n",
      "Total parameters: 62,001,757\n"
     ]
    }
   ],
   "source": [
    "model.print_summary()"
   ]
  },
  {
   "cell_type": "code",
   "execution_count": 21,
   "metadata": {},
   "outputs": [
    {
     "name": "stdout",
     "output_type": "stream",
     "text": [
      "Downloading data from https://github.com/taehoonlee/deep-learning-models/releases/download/yolo/ref_yolo_v2_voc.npz\n",
      "202727424/202721023 [==============================] - 20s 0us/step\n"
     ]
    }
   ],
   "source": [
    "with tf.Session() as sess:\n",
    "    sess.run(model.pretrained())\n",
    "    preds = sess.run(model, {inputs: model.preprocess(img)})\n",
    "    boxes = model.get_boxes(preds, img.shape[1:3])"
   ]
  },
  {
   "cell_type": "code",
   "execution_count": 22,
   "metadata": {},
   "outputs": [
    {
     "data": {
      "text/plain": [
       "[array([], dtype=float32),\n",
       " array([], dtype=float32),\n",
       " array([], dtype=float32),\n",
       " array([], dtype=float32),\n",
       " array([], dtype=float32),\n",
       " array([], dtype=float32),\n",
       " array([], dtype=float32),\n",
       " array([[ 90.       , 136.       , 483.       , 618.       ,   0.8183564]],\n",
       "       dtype=float32),\n",
       " array([], dtype=float32),\n",
       " array([], dtype=float32),\n",
       " array([], dtype=float32),\n",
       " array([], dtype=float32),\n",
       " array([], dtype=float32),\n",
       " array([], dtype=float32),\n",
       " array([], dtype=float32),\n",
       " array([], dtype=float32),\n",
       " array([], dtype=float32),\n",
       " array([], dtype=float32),\n",
       " array([], dtype=float32),\n",
       " array([], dtype=float32)]"
      ]
     },
     "execution_count": 22,
     "metadata": {},
     "output_type": "execute_result"
    }
   ],
   "source": [
    "boxes"
   ]
  },
  {
   "cell_type": "code",
   "execution_count": 23,
   "metadata": {},
   "outputs": [
    {
     "data": {
      "text/plain": [
       "(1, 733, 490, 3)"
      ]
     },
     "execution_count": 23,
     "metadata": {},
     "output_type": "execute_result"
    }
   ],
   "source": [
    "img.shape"
   ]
  },
  {
   "cell_type": "code",
   "execution_count": null,
   "metadata": {},
   "outputs": [],
   "source": []
  }
 ],
 "metadata": {
  "kernelspec": {
   "display_name": "Python 3",
   "language": "python",
   "name": "python3"
  },
  "language_info": {
   "codemirror_mode": {
    "name": "ipython",
    "version": 3
   },
   "file_extension": ".py",
   "mimetype": "text/x-python",
   "name": "python",
   "nbconvert_exporter": "python",
   "pygments_lexer": "ipython3",
   "version": "3.6.8"
  }
 },
 "nbformat": 4,
 "nbformat_minor": 2
}
